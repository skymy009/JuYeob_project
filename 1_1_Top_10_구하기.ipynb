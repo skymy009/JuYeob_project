{
  "nbformat": 4,
  "nbformat_minor": 0,
  "metadata": {
    "colab": {
      "name": "1.1 Top 10 구하기.ipynb",
      "provenance": [],
      "authorship_tag": "ABX9TyM+rhV2j6IXu4ZVYuzBQpNZ",
      "include_colab_link": true
    },
    "kernelspec": {
      "name": "python3",
      "display_name": "Python 3"
    },
    "language_info": {
      "name": "python"
    }
  },
  "cells": [
    {
      "cell_type": "markdown",
      "metadata": {
        "id": "view-in-github",
        "colab_type": "text"
      },
      "source": [
        "<a href=\"https://colab.research.google.com/github/skymy009/JuYeob_project/blob/main/1_1_Top_10_%EA%B5%AC%ED%95%98%EA%B8%B0.ipynb\" target=\"_parent\"><img src=\"https://colab.research.google.com/assets/colab-badge.svg\" alt=\"Open In Colab\"/></a>"
      ]
    },
    {
      "cell_type": "markdown",
      "source": [
        "# boston 데이터 세트(boston.csv)의 MEDV 칼럼에 대해서 가장 작은 값부터 순서대로 10개 행을 출력해야 한다. 즉, 오름차순으로 정렬된 MEDV 값에서 Top 10을 구하시오."
      ],
      "metadata": {
        "id": "M0i7mw29iNT3"
      }
    },
    {
      "cell_type": "code",
      "execution_count": 7,
      "metadata": {
        "id": "gtW46F6y-Fd5"
      },
      "outputs": [],
      "source": [
        "# pandas 라이브러리 가져오기\n",
        "import pandas as pd"
      ]
    },
    {
      "cell_type": "code",
      "source": [
        "# boston.csv 파일의 데이터를 읽은 후, 해당 데이터를 data 변수에 저장하기\n",
        "data = pd.read_csv('boston.csv')"
      ],
      "metadata": {
        "id": "3KHg5ehd-jt-"
      },
      "execution_count": 8,
      "outputs": []
    },
    {
      "cell_type": "code",
      "source": [
        "# data 변수의 상위 5개 행을 출력하기\n",
        "print(data.head())"
      ],
      "metadata": {
        "colab": {
          "base_uri": "https://localhost:8080/"
        },
        "id": "vcli4UCk-xyZ",
        "outputId": "941aaa6f-55b8-490a-a022-1e3ea188d3f7"
      },
      "execution_count": 9,
      "outputs": [
        {
          "output_type": "stream",
          "name": "stdout",
          "text": [
            "      CRIM    ZN  INDUS  CHAS    NOX  ...  TAX  PTRATIO       B  LSTAT  MEDV\n",
            "0  0.00632  18.0   2.31     0  0.538  ...  296     15.3  396.90   4.98  24.0\n",
            "1  0.02731   0.0   7.07     0  0.469  ...  242     17.8  396.90   9.14  21.6\n",
            "2  0.02729   0.0   7.07     0  0.469  ...  242     17.8  392.83   4.03  34.7\n",
            "3  0.03237   0.0   2.18     0  0.458  ...  222     18.7  394.63   2.94  33.4\n",
            "4  0.06905   0.0   2.18     0  0.458  ...  222     18.7  396.90   5.33  36.2\n",
            "\n",
            "[5 rows x 14 columns]\n"
          ]
        }
      ]
    },
    {
      "cell_type": "code",
      "source": [
        "# data 변수를 MEDV 칼럼 기준으로 오름차훈 정렬하기\n",
        "print(data.sort_values(by = 'MEDV', ascending = True))"
      ],
      "metadata": {
        "colab": {
          "base_uri": "https://localhost:8080/"
        },
        "id": "sn3yIN8U-5S-",
        "outputId": "7da9f517-185d-4ea3-b783-d56363d49d8f"
      },
      "execution_count": 10,
      "outputs": [
        {
          "output_type": "stream",
          "name": "stdout",
          "text": [
            "         CRIM    ZN  INDUS  CHAS    NOX  ...  TAX  PTRATIO       B  LSTAT  MEDV\n",
            "398  38.35180   0.0  18.10     0  0.693  ...  666     20.2  396.90  30.59   5.0\n",
            "405  67.92080   0.0  18.10     0  0.693  ...  666     20.2  384.97  22.98   5.0\n",
            "400  25.04610   0.0  18.10     0  0.693  ...  666     20.2  396.90  26.77   5.6\n",
            "399   9.91655   0.0  18.10     0  0.693  ...  666     20.2  338.16  29.97   6.3\n",
            "414  45.74610   0.0  18.10     0  0.693  ...  666     20.2   88.27  36.98   7.0\n",
            "..        ...   ...    ...   ...    ...  ...  ...      ...     ...    ...   ...\n",
            "166   2.01019   0.0  19.58     0  0.605  ...  403     14.7  369.30   3.70  50.0\n",
            "195   0.01381  80.0   0.46     0  0.422  ...  255     14.4  394.23   2.97  50.0\n",
            "283   0.01501  90.0   1.21     1  0.401  ...  198     13.6  395.52   3.16  50.0\n",
            "225   0.52693   0.0   6.20     0  0.504  ...  307     17.4  382.00   4.63  50.0\n",
            "186   0.05602   0.0   2.46     0  0.488  ...  193     17.8  392.63   4.45  50.0\n",
            "\n",
            "[506 rows x 14 columns]\n"
          ]
        }
      ]
    },
    {
      "cell_type": "code",
      "source": [
        "# MEDV 칼럼만 추출하기\n",
        "print(data.sort_values(by = 'MEDV', ascending = True)['MEDV'])"
      ],
      "metadata": {
        "colab": {
          "base_uri": "https://localhost:8080/"
        },
        "id": "Xyn4tzxK-5Mc",
        "outputId": "ae68b5cb-9df9-4461-f143-a65e99398047"
      },
      "execution_count": 11,
      "outputs": [
        {
          "output_type": "stream",
          "name": "stdout",
          "text": [
            "398     5.0\n",
            "405     5.0\n",
            "400     5.6\n",
            "399     6.3\n",
            "414     7.0\n",
            "       ... \n",
            "166    50.0\n",
            "195    50.0\n",
            "283    50.0\n",
            "225    50.0\n",
            "186    50.0\n",
            "Name: MEDV, Length: 506, dtype: float64\n"
          ]
        }
      ]
    },
    {
      "cell_type": "code",
      "source": [
        "# 상위 10개 행을 출력하기\n",
        "print(data.sort_values(by = 'MEDV', ascending = True)['MEDV'].head(10))"
      ],
      "metadata": {
        "colab": {
          "base_uri": "https://localhost:8080/"
        },
        "id": "chRAjv0YBP-p",
        "outputId": "202d3d77-6c97-4eaa-e461-ce1ac6662862"
      },
      "execution_count": 12,
      "outputs": [
        {
          "output_type": "stream",
          "name": "stdout",
          "text": [
            "398    5.0\n",
            "405    5.0\n",
            "400    5.6\n",
            "399    6.3\n",
            "414    7.0\n",
            "489    7.0\n",
            "401    7.2\n",
            "385    7.2\n",
            "415    7.2\n",
            "387    7.4\n",
            "Name: MEDV, dtype: float64\n"
          ]
        }
      ]
    },
    {
      "cell_type": "code",
      "source": [
        ""
      ],
      "metadata": {
        "id": "wPkuMIxIBU5d"
      },
      "execution_count": 12,
      "outputs": []
    }
  ]
}